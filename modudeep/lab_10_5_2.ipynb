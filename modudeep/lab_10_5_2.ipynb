{
 "cells": [
  {
   "attachments": {
    "image.png": {
     "image/png": "[encoded data removed]"
    }
   },
   "cell_type": "markdown",
   "metadata": {},
   "source": [
    "![image.png](attachment:image.png)"
   ]
  },
  {
   "cell_type": "code",
   "execution_count": 4,
   "metadata": {},
   "outputs": [],
   "source": [
    "import torch\n",
    "import torch.nn as nn\n",
    "\n",
    "import torch.optim as optim\n",
    "\n",
    "import torchvision\n",
    "import torchvision.transforms as transforms"
   ]
  },
  {
   "cell_type": "code",
   "execution_count": 5,
   "metadata": {},
   "outputs": [
    {
     "name": "stderr",
     "output_type": "stream",
     "text": [
      "Setting up a new session...\n"
     ]
    },
    {
     "data": {
      "text/plain": [
       "''"
      ]
     },
     "execution_count": 5,
     "metadata": {},
     "output_type": "execute_result"
    }
   ],
   "source": [
    "import visdom\n",
    "\n",
    "vis = visdom.Visdom()\n",
    "vis.close(env=\"main\")"
   ]
  },
  {
   "cell_type": "markdown",
   "metadata": {},
   "source": [
    "define loss tracker"
   ]
  },
  {
   "cell_type": "code",
   "execution_count": 6,
   "metadata": {},
   "outputs": [],
   "source": [
    "def loss_tracker(loss_plot, loss_value, num):\n",
    "    '''num, loss_value, are Tensor'''\n",
    "    vis.line(X=num,\n",
    "             Y=loss_value,\n",
    "             win = loss_plot,\n",
    "             update='append'\n",
    "            )"
   ]
  },
  {
   "cell_type": "code",
   "execution_count": 7,
   "metadata": {},
   "outputs": [],
   "source": [
    "device = 'cuda' if torch.cuda.is_available() else 'cpu'\n",
    "\n",
    "torch.manual_seed(777)\n",
    "if device =='cuda':\n",
    "    torch.cuda.manual_seed_all(777)"
   ]
  },
  {
   "cell_type": "code",
   "execution_count": 8,
   "metadata": {},
   "outputs": [
    {
     "name": "stdout",
     "output_type": "stream",
     "text": [
      "Files already downloaded and verified\n",
      "Files already downloaded and verified\n"
     ]
    }
   ],
   "source": [
    "transform = transforms.Compose(\n",
    "    [transforms.ToTensor(),\n",
    "     transforms.Normalize((0.5, 0.5, 0.5), (0.5, 0.5, 0.5))])\n",
    "\n",
    "trainset = torchvision.datasets.CIFAR10(root='./cifar10', train=True,\n",
    "                                        download=True, transform=transform)\n",
    "trainloder = torch.utils.data.DataLoader(trainset, batch_size=512,\n",
    "                                         shuffle=True, num_workers=0)\n",
    "\n",
    "testset = torchvision.datasets.CIFAR10(root='./cifar10', train=False,\n",
    "                                       download=True, transform=transform)\n",
    "testloader = torch.utils.data.DataLoader(testset, batch_size=4,\n",
    "                                         shuffle=False, num_workers=0)\n",
    "\n",
    "classes = ('plane', 'car', 'bird', 'cat',\n",
    "           'deer', 'dog', 'frog', 'horse', 'ship', 'truck')"
   ]
  },
  {
   "cell_type": "code",
   "execution_count": 9,
   "metadata": {},
   "outputs": [
    {
     "name": "stdout",
     "output_type": "stream",
     "text": [
      " bird  bird horse  frog\n"
     ]
    }
   ],
   "source": [
    "import matplotlib.pyplot as plt\n",
    "import numpy as np\n",
    "%matplotlib inline\n",
    "#functions to show an image\n",
    "\n",
    "def imshow(img):\n",
    "    img = img / 2 * 0.5     #unnormalize\n",
    "    npimg = img.numpy()\n",
    "    plt.imshow(np.transpose(npimg, (1, 2, 0)))\n",
    "    plt.show()\n",
    "\n",
    "\n",
    "#get sime random trainig images\n",
    "dataiter = iter(trainloder)\n",
    "images, labels = next(iter(trainloder))\n",
    "vis.images(images/2 + 0.5)\n",
    "\n",
    "#show images\n",
    "#imshow(torchvision.util.make_grid(images))\n",
    "\n",
    "#print labels\n",
    "print(' '.join('%5s' % classes[labels[j]] for j in range(4)))"
   ]
  },
  {
   "cell_type": "markdown",
   "metadata": {},
   "source": [
    "make VGG16 using vgg.py"
   ]
  },
  {
   "cell_type": "code",
   "execution_count": 11,
   "metadata": {},
   "outputs": [],
   "source": [
    "import vgg\n",
    "#import torchvision.models.vgg as vgg"
   ]
  },
  {
   "cell_type": "code",
   "execution_count": 13,
   "metadata": {},
   "outputs": [],
   "source": [
    "cfg = [32,32,'M', 64,64,128,128,128,'M',256,256,256,512,512,512,'M'] #13 + 3 =vgg16"
   ]
  },
  {
   "cell_type": "code",
   "execution_count": 15,
   "metadata": {},
   "outputs": [],
   "source": [
    "class VGG(nn.Module):\n",
    "\n",
    "    def __init__(self, features, num_classes=1000, init_weights=True):\n",
    "        super(VGG, self).__init__()\n",
    "        self.features = features\n",
    "        #self.avgpool = nn.AdaptiveAvgPool2d((7, 7))\n",
    "        self.classifier = nn.Sequential(\n",
    "            nn.Linear(512 * 4 * 4, 4096),\n",
    "            nn.ReLU(True),\n",
    "            nn.Dropout(),\n",
    "            nn.Linear(4096, 4096),\n",
    "            nn.ReLU(True),\n",
    "            nn.Dropout(),\n",
    "            nn.Linear(4096, num_classes),\n",
    "        )\n",
    "        if init_weights:\n",
    "            self._initialize_weights()\n",
    "\n",
    "    def forward(self, x):\n",
    "        x = self.features(x)\n",
    "        #x = self.avgpool(x)\n",
    "        x = x.view(x.size(0), -1)\n",
    "        x = self.classifier(x)\n",
    "        return x\n",
    "\n",
    "    def _initialize_weights(self):\n",
    "        for m in self.modules():\n",
    "            if isinstance(m, nn.Conv2d):\n",
    "                nn.init.kaiming_normal_(m.weight, mode='fan_out', nonlinearity='relu')\n",
    "                if m.bias is not None:\n",
    "                    nn.init.constant_(m.bias, 0)\n",
    "            elif isinstance(m, nn.BatchNorm2d):\n",
    "                nn.init.constant_(m.weight, 1)\n",
    "                nn.init.constant_(m.bias, 0)\n",
    "            elif isinstance(m, nn.Linear):\n",
    "                nn.init.normal_(m.weight, 0, 0.01)\n",
    "                nn.init.constant_(m.bias, 0)"
   ]
  },
  {
   "cell_type": "code",
   "execution_count": 16,
   "metadata": {},
   "outputs": [],
   "source": [
    "vgg16 = VGG(vgg.make_layers(cfg), 10, True).to(device)"
   ]
  },
  {
   "cell_type": "code",
   "execution_count": 17,
   "metadata": {},
   "outputs": [
    {
     "name": "stdout",
     "output_type": "stream",
     "text": [
      "tensor([[nan, nan, nan, nan, nan, nan, nan, nan, nan, nan]], device='cuda:0',\n",
      "       grad_fn=<AddmmBackward0>)\n"
     ]
    }
   ],
   "source": [
    "a=torch.Tensor(1, 3, 32, 32).to(device)\n",
    "out = vgg16(a)\n",
    "print(out)"
   ]
  },
  {
   "cell_type": "code",
   "execution_count": 18,
   "metadata": {},
   "outputs": [],
   "source": [
    "criterion = nn.CrossEntropyLoss().to(device)\n",
    "optimizer = torch.optim.SGD(vgg16.parameters(), lr=0.005, momentum=0.9)\n",
    "\n",
    "lr_sche = optim.lr_scheduler.StepLR(optimizer, step_size=5, gamma=0.9)"
   ]
  },
  {
   "cell_type": "markdown",
   "metadata": {},
   "source": [
    "make plot"
   ]
  },
  {
   "cell_type": "code",
   "execution_count": 19,
   "metadata": {},
   "outputs": [],
   "source": [
    "loss_plt = vis.line(Y=torch.Tensor(1).zero_(), opts=dict(title='loss tracker', legend=['loss'], showlegend=True))"
   ]
  },
  {
   "cell_type": "markdown",
   "metadata": {},
   "source": [
    "training"
   ]
  },
  {
   "cell_type": "code",
   "execution_count": 20,
   "metadata": {},
   "outputs": [
    {
     "name": "stdout",
     "output_type": "stream",
     "text": [
      "98\n"
     ]
    },
    {
     "name": "stderr",
     "output_type": "stream",
     "text": [
      "c:\\Users\\jys74\\anaconda3\\envs\\PyTorch\\Lib\\site-packages\\torch\\optim\\lr_scheduler.py:139: UserWarning: Detected call of `lr_scheduler.step()` before `optimizer.step()`. In PyTorch 1.1.0 and later, you should call them in the opposite order: `optimizer.step()` before `lr_scheduler.step()`.  Failure to do this will result in PyTorch skipping the first value of the learning rate schedule. See more details at https://pytorch.org/docs/stable/optim.html#how-to-adjust-learning-rate\n",
      "  warnings.warn(\"Detected call of `lr_scheduler.step()` before `optimizer.step()`. \"\n"
     ]
    },
    {
     "name": "stdout",
     "output_type": "stream",
     "text": [
      "[1,    30] loss: 2.302\n",
      "[1,    60] loss: 2.299\n",
      "[1,    90] loss: 2.293\n",
      "[2,    30] loss: 2.238\n",
      "[2,    60] loss: 2.139\n",
      "[2,    90] loss: 2.024\n",
      "[3,    30] loss: 1.886\n",
      "[3,    60] loss: 1.825\n",
      "[3,    90] loss: 1.737\n",
      "[4,    30] loss: 1.678\n",
      "[4,    60] loss: 1.622\n",
      "[4,    90] loss: 1.620\n",
      "[5,    30] loss: 1.555\n",
      "[5,    60] loss: 1.496\n",
      "[5,    90] loss: 1.529\n",
      "[6,    30] loss: 1.448\n",
      "[6,    60] loss: 1.415\n",
      "[6,    90] loss: 1.404\n",
      "[7,    30] loss: 1.335\n",
      "[7,    60] loss: 1.300\n",
      "[7,    90] loss: 1.291\n",
      "[8,    30] loss: 1.254\n",
      "[8,    60] loss: 1.230\n",
      "[8,    90] loss: 1.192\n",
      "[9,    30] loss: 1.178\n",
      "[9,    60] loss: 1.159\n",
      "[9,    90] loss: 1.140\n",
      "[10,    30] loss: 1.077\n",
      "[10,    60] loss: 1.052\n",
      "[10,    90] loss: 1.035\n",
      "[11,    30] loss: 1.007\n",
      "[11,    60] loss: 0.988\n",
      "[11,    90] loss: 0.983\n",
      "[12,    30] loss: 0.943\n",
      "[12,    60] loss: 0.975\n",
      "[12,    90] loss: 0.933\n",
      "[13,    30] loss: 0.903\n",
      "[13,    60] loss: 0.872\n",
      "[13,    90] loss: 0.890\n",
      "[14,    30] loss: 0.880\n",
      "[14,    60] loss: 0.844\n",
      "[14,    90] loss: 0.874\n",
      "[15,    30] loss: 0.785\n",
      "[15,    60] loss: 0.790\n",
      "[15,    90] loss: 0.827\n",
      "[16,    30] loss: 0.779\n",
      "[16,    60] loss: 0.757\n",
      "[16,    90] loss: 0.743\n",
      "[17,    30] loss: 0.738\n",
      "[17,    60] loss: 0.715\n",
      "[17,    90] loss: 0.725\n",
      "[18,    30] loss: 0.700\n",
      "[18,    60] loss: 0.691\n",
      "[18,    90] loss: 0.694\n",
      "[19,    30] loss: 0.664\n",
      "[19,    60] loss: 0.659\n",
      "[19,    90] loss: 0.670\n",
      "[20,    30] loss: 0.607\n",
      "[20,    60] loss: 0.616\n",
      "[20,    90] loss: 0.621\n",
      "[21,    30] loss: 0.565\n",
      "[21,    60] loss: 0.586\n",
      "[21,    90] loss: 0.567\n",
      "[22,    30] loss: 0.535\n",
      "[22,    60] loss: 0.543\n",
      "[22,    90] loss: 0.560\n",
      "[23,    30] loss: 0.499\n",
      "[23,    60] loss: 0.515\n",
      "[23,    90] loss: 0.517\n",
      "[24,    30] loss: 0.447\n",
      "[24,    60] loss: 0.481\n",
      "[24,    90] loss: 0.466\n",
      "[25,    30] loss: 0.419\n",
      "[25,    60] loss: 0.427\n",
      "[25,    90] loss: 0.426\n",
      "[26,    30] loss: 0.380\n",
      "[26,    60] loss: 0.380\n",
      "[26,    90] loss: 0.390\n",
      "[27,    30] loss: 0.347\n",
      "[27,    60] loss: 0.364\n",
      "[27,    90] loss: 0.370\n",
      "[28,    30] loss: 0.322\n",
      "[28,    60] loss: 0.337\n",
      "[28,    90] loss: 0.343\n",
      "[29,    30] loss: 0.289\n",
      "[29,    60] loss: 0.308\n",
      "[29,    90] loss: 0.336\n",
      "[30,    30] loss: 0.249\n",
      "[30,    60] loss: 0.247\n",
      "[30,    90] loss: 0.263\n",
      "[31,    30] loss: 0.219\n",
      "[31,    60] loss: 0.227\n",
      "[31,    90] loss: 0.243\n",
      "[32,    30] loss: 0.195\n",
      "[32,    60] loss: 0.204\n",
      "[32,    90] loss: 0.215\n",
      "[33,    30] loss: 0.177\n",
      "[33,    60] loss: 0.186\n",
      "[33,    90] loss: 0.181\n",
      "[34,    30] loss: 0.157\n",
      "[34,    60] loss: 0.160\n",
      "[34,    90] loss: 0.168\n",
      "[35,    30] loss: 0.140\n",
      "[35,    60] loss: 0.126\n",
      "[35,    90] loss: 0.151\n",
      "[36,    30] loss: 0.130\n",
      "[36,    60] loss: 0.119\n",
      "[36,    90] loss: 0.131\n",
      "[37,    30] loss: 0.116\n",
      "[37,    60] loss: 0.113\n",
      "[37,    90] loss: 0.102\n",
      "[38,    30] loss: 0.086\n",
      "[38,    60] loss: 0.099\n",
      "[38,    90] loss: 0.115\n",
      "[39,    30] loss: 0.081\n",
      "[39,    60] loss: 0.080\n",
      "[39,    90] loss: 0.083\n",
      "[40,    30] loss: 0.071\n",
      "[40,    60] loss: 0.069\n",
      "[40,    90] loss: 0.068\n",
      "[41,    30] loss: 0.063\n",
      "[41,    60] loss: 0.054\n",
      "[41,    90] loss: 0.066\n",
      "[42,    30] loss: 0.060\n",
      "[42,    60] loss: 0.059\n",
      "[42,    90] loss: 0.055\n",
      "[43,    30] loss: 0.057\n",
      "[43,    60] loss: 0.052\n",
      "[43,    90] loss: 0.060\n",
      "[44,    30] loss: 0.050\n",
      "[44,    60] loss: 0.046\n",
      "[44,    90] loss: 0.049\n",
      "[45,    30] loss: 0.039\n",
      "[45,    60] loss: 0.041\n",
      "[45,    90] loss: 0.036\n",
      "[46,    30] loss: 0.040\n",
      "[46,    60] loss: 0.040\n",
      "[46,    90] loss: 0.037\n",
      "[47,    30] loss: 0.033\n",
      "[47,    60] loss: 0.031\n",
      "[47,    90] loss: 0.032\n",
      "[48,    30] loss: 0.035\n",
      "[48,    60] loss: 0.037\n",
      "[48,    90] loss: 0.039\n",
      "[49,    30] loss: 0.031\n",
      "[49,    60] loss: 0.034\n",
      "[49,    90] loss: 0.033\n",
      "[50,    30] loss: 0.028\n",
      "[50,    60] loss: 0.027\n",
      "[50,    90] loss: 0.023\n",
      "Finished Trainig\n"
     ]
    }
   ],
   "source": [
    "print(len(trainloder))\n",
    "epochs = 50\n",
    "\n",
    "for epoch in range(epochs):     #loop over the dataset multiple times\n",
    "    running_loss = 0.0\n",
    "    lr_sche.step()\n",
    "    for i, data in enumerate(trainloder, 0):\n",
    "        #get the inputs\n",
    "        inputs, labels = data\n",
    "        inputs = inputs.to(device)\n",
    "        labels = labels.to(device)\n",
    "\n",
    "        #zero the parameter gradients\n",
    "        optimizer.zero_grad()\n",
    "\n",
    "        #forward + backward + optimize\n",
    "        outputs = vgg16(inputs)\n",
    "        loss = criterion(outputs, labels)\n",
    "        loss.backward()\n",
    "        optimizer.step()\n",
    "\n",
    "        #print statistics\n",
    "        running_loss += loss.item()\n",
    "        if i % 30 == 29:    #print every 30 mini-batches\n",
    "            loss_tracker(loss_plt, torch.Tensor([running_loss/30]), torch.Tensor([i + epoch*len(trainloder)]))\n",
    "            print('[%d, %5d] loss: %.3f' %\n",
    "                  (epoch + 1, i + 1, running_loss / 30))\n",
    "            running_loss = 0.0\n",
    "\n",
    "print('Finished Trainig')"
   ]
  },
  {
   "cell_type": "code",
   "execution_count": 22,
   "metadata": {},
   "outputs": [
    {
     "name": "stderr",
     "output_type": "stream",
     "text": [
      "Clipping input data to the valid range for imshow with RGB data ([0..1] for floats or [0..255] for integers).\n"
     ]
    },
    {
     "data": {
      "image/png": "[encoded data removed]",
      "text/plain": [
       "<Figure size 640x480 with 1 Axes>"
      ]
     },
     "metadata": {},
     "output_type": "display_data"
    },
    {
     "name": "stdout",
     "output_type": "stream",
     "text": [
      "GroundTruth:    cat  ship  ship plane\n"
     ]
    }
   ],
   "source": [
    "dataiter = iter(testloader)\n",
    "images, labels = next(iter(testloader))\n",
    "\n",
    "#print images\n",
    "imshow(torchvision.utils.make_grid(images))\n",
    "print('GroundTruth: ', ' '.join('%5s' % classes[labels[j]] for j in range(4)))"
   ]
  },
  {
   "cell_type": "code",
   "execution_count": 23,
   "metadata": {},
   "outputs": [],
   "source": [
    "outputs = vgg16(images.to(device))"
   ]
  },
  {
   "cell_type": "code",
   "execution_count": 24,
   "metadata": {},
   "outputs": [
    {
     "name": "stdout",
     "output_type": "stream",
     "text": [
      "Predicted:    cat  ship  ship plane\n"
     ]
    }
   ],
   "source": [
    "_, predicted = torch.max(outputs, 1)\n",
    "\n",
    "print('Predicted: ', ' '.join('%5s' % classes[predicted[j]]\n",
    "                              for j in range(4)))"
   ]
  },
  {
   "cell_type": "code",
   "execution_count": 25,
   "metadata": {},
   "outputs": [
    {
     "name": "stdout",
     "output_type": "stream",
     "text": [
      "Accuracy of the network on the 10000 test images: 76 %\n"
     ]
    }
   ],
   "source": [
    "correct = 0\n",
    "total = 0\n",
    "\n",
    "with torch.no_grad():\n",
    "    for data in testloader:\n",
    "        images, labels = data\n",
    "        images = images.to(device)\n",
    "        labels = labels.to(device)\n",
    "        outputs = vgg16(images)\n",
    "        \n",
    "        _, predicted = torch.max(outputs.data, 1)\n",
    "        \n",
    "        total += labels.size(0)\n",
    "        \n",
    "        correct += (predicted == labels).sum().item()\n",
    "\n",
    "print('Accuracy of the network on the 10000 test images: %d %%' % (\n",
    "    100 * correct / total))"
   ]
  }
 ],
 "metadata": {
  "kernelspec": {
   "display_name": "PyTorch",
   "language": "python",
   "name": "python3"
  },
  "language_info": {
   "codemirror_mode": {
    "name": "ipython",
    "version": 3
   },
   "file_extension": ".py",
   "mimetype": "text/x-python",
   "name": "python",
   "nbconvert_exporter": "python",
   "pygments_lexer": "ipython3",
   "version": "3.11.4"
  },
  "orig_nbformat": 4
 },
 "nbformat": 4,
 "nbformat_minor": 2
}
