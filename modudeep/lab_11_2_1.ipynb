{
 "cells": [
  {
   "cell_type": "code",
   "execution_count": 52,
   "metadata": {},
   "outputs": [],
   "source": [
    "import torch\n",
    "import torch.optim as optim\n",
    "import numpy as np"
   ]
  },
  {
   "cell_type": "code",
   "execution_count": 53,
   "metadata": {},
   "outputs": [
    {
     "data": {
      "text/plain": [
       "<torch._C.Generator at 0x1265da7b370>"
      ]
     },
     "execution_count": 53,
     "metadata": {},
     "output_type": "execute_result"
    }
   ],
   "source": [
    "#Random seed to make results deterministic and reproducible\n",
    "torch.manual_seed(0)"
   ]
  },
  {
   "cell_type": "code",
   "execution_count": 54,
   "metadata": {},
   "outputs": [],
   "source": [
    "sample = \"if you want you\""
   ]
  },
  {
   "cell_type": "code",
   "execution_count": 55,
   "metadata": {},
   "outputs": [
    {
     "name": "stdout",
     "output_type": "stream",
     "text": [
      "{'t': 0, 'y': 1, 'a': 2, 'n': 3, 'i': 4, 'w': 5, ' ': 6, 'u': 7, 'f': 8, 'o': 9}\n"
     ]
    }
   ],
   "source": [
    "#make directory\n",
    "char_set = list(set(sample))\n",
    "char_dic = {c: i for i, c in enumerate(char_set)}\n",
    "print(char_dic)"
   ]
  },
  {
   "cell_type": "code",
   "execution_count": 56,
   "metadata": {},
   "outputs": [],
   "source": [
    "#hyper parameters\n",
    "dic_size = len(char_dic)\n",
    "hidden_size = len(char_dic)\n",
    "learning_rate = 0.1"
   ]
  },
  {
   "cell_type": "code",
   "execution_count": 57,
   "metadata": {},
   "outputs": [],
   "source": [
    "#data setting\n",
    "sample_idx = [char_dic[c] for c in sample]\n",
    "x_data = [sample_idx[:-1]]\n",
    "x_one_hot = [np.eye(dic_size)[x] for x in x_data]       #np.eye => I 행렬\n",
    "y_data = [sample_idx[1:]]"
   ]
  },
  {
   "cell_type": "code",
   "execution_count": 58,
   "metadata": {},
   "outputs": [],
   "source": [
    "#transform as torch tensor variable\n",
    "X = torch.FloatTensor(x_one_hot)\n",
    "Y = torch.LongTensor(y_data)"
   ]
  },
  {
   "cell_type": "code",
   "execution_count": 59,
   "metadata": {},
   "outputs": [],
   "source": [
    "#declare RNN\n",
    "rnn = torch.nn.RNN(dic_size, hidden_size, batch_first=True)"
   ]
  },
  {
   "cell_type": "code",
   "execution_count": 60,
   "metadata": {},
   "outputs": [],
   "source": [
    "#loss & optimizer setting\n",
    "criterion = torch.nn.CrossEntropyLoss()\n",
    "optimizer = optim.Adam(rnn.parameters(), learning_rate)"
   ]
  },
  {
   "cell_type": "code",
   "execution_count": 61,
   "metadata": {},
   "outputs": [
    {
     "name": "stdout",
     "output_type": "stream",
     "text": [
      "0 loss:  2.299050807952881 prediction:  [[5 7 5 8 0 0 1 7 9 7 5 8 8 0]] true Y:  [[8, 6, 1, 9, 7, 6, 5, 2, 3, 0, 6, 1, 9, 7]] prediction str:  wuwfttyuouwfft\n",
      "1 loss:  1.9160940647125244 prediction:  [[7 6 1 8 7 1 1 7 9 7 9 1 9 7]] true Y:  [[8, 6, 1, 9, 7, 6, 5, 2, 3, 0, 6, 1, 9, 7]] prediction str:  u yfuyyuouoyou\n",
      "2 loss:  1.680590271949768 prediction:  [[7 6 1 9 7 6 1 9 9 7 6 1 9 7]] true Y:  [[8, 6, 1, 9, 7, 6, 5, 2, 3, 0, 6, 1, 9, 7]] prediction str:  u you yoou you\n",
      "3 loss:  1.513007402420044 prediction:  [[7 6 1 9 7 6 1 9 8 7 6 1 9 7]] true Y:  [[8, 6, 1, 9, 7, 6, 5, 2, 3, 0, 6, 1, 9, 7]] prediction str:  u you yofu you\n",
      "4 loss:  1.3740570545196533 prediction:  [[7 6 1 9 7 6 1 9 3 7 6 1 9 7]] true Y:  [[8, 6, 1, 9, 7, 6, 5, 2, 3, 0, 6, 1, 9, 7]] prediction str:  u you yonu you\n",
      "5 loss:  1.2711265087127686 prediction:  [[7 6 1 9 7 6 1 9 3 0 6 1 9 7]] true Y:  [[8, 6, 1, 9, 7, 6, 5, 2, 3, 0, 6, 1, 9, 7]] prediction str:  u you yont you\n",
      "6 loss:  1.1980698108673096 prediction:  [[8 6 1 9 7 6 1 9 3 0 6 1 9 7]] true Y:  [[8, 6, 1, 9, 7, 6, 5, 2, 3, 0, 6, 1, 9, 7]] prediction str:  f you yont you\n",
      "7 loss:  1.1454676389694214 prediction:  [[8 6 1 9 7 6 1 9 3 0 6 1 9 7]] true Y:  [[8, 6, 1, 9, 7, 6, 5, 2, 3, 0, 6, 1, 9, 7]] prediction str:  f you yont you\n",
      "8 loss:  1.1070398092269897 prediction:  [[8 6 1 9 7 6 1 9 3 0 6 1 9 7]] true Y:  [[8, 6, 1, 9, 7, 6, 5, 2, 3, 0, 6, 1, 9, 7]] prediction str:  f you yont you\n",
      "9 loss:  1.0683842897415161 prediction:  [[8 6 1 9 7 6 1 9 3 0 6 1 9 7]] true Y:  [[8, 6, 1, 9, 7, 6, 5, 2, 3, 0, 6, 1, 9, 7]] prediction str:  f you yont you\n",
      "10 loss:  1.0259733200073242 prediction:  [[8 6 1 9 7 6 1 9 3 0 6 1 9 7]] true Y:  [[8, 6, 1, 9, 7, 6, 5, 2, 3, 0, 6, 1, 9, 7]] prediction str:  f you yont you\n",
      "11 loss:  0.991147518157959 prediction:  [[8 6 1 9 7 6 1 9 3 0 6 1 9 7]] true Y:  [[8, 6, 1, 9, 7, 6, 5, 2, 3, 0, 6, 1, 9, 7]] prediction str:  f you yont you\n",
      "12 loss:  0.983683168888092 prediction:  [[8 6 1 9 7 6 1 9 3 0 6 1 9 7]] true Y:  [[8, 6, 1, 9, 7, 6, 5, 2, 3, 0, 6, 1, 9, 7]] prediction str:  f you yont you\n",
      "13 loss:  0.9617039561271667 prediction:  [[8 6 1 9 7 6 1 9 3 0 6 1 9 7]] true Y:  [[8, 6, 1, 9, 7, 6, 5, 2, 3, 0, 6, 1, 9, 7]] prediction str:  f you yont you\n",
      "14 loss:  0.9562927484512329 prediction:  [[8 6 1 9 7 6 1 9 3 0 6 1 9 7]] true Y:  [[8, 6, 1, 9, 7, 6, 5, 2, 3, 0, 6, 1, 9, 7]] prediction str:  f you yont you\n",
      "15 loss:  0.940684974193573 prediction:  [[8 6 1 9 7 6 1 9 3 0 6 1 9 7]] true Y:  [[8, 6, 1, 9, 7, 6, 5, 2, 3, 0, 6, 1, 9, 7]] prediction str:  f you yont you\n",
      "16 loss:  0.9309318661689758 prediction:  [[8 6 1 9 7 6 1 9 3 0 6 1 9 7]] true Y:  [[8, 6, 1, 9, 7, 6, 5, 2, 3, 0, 6, 1, 9, 7]] prediction str:  f you yont you\n",
      "17 loss:  0.931054413318634 prediction:  [[8 6 1 9 7 6 1 9 3 0 6 1 9 7]] true Y:  [[8, 6, 1, 9, 7, 6, 5, 2, 3, 0, 6, 1, 9, 7]] prediction str:  f you yont you\n",
      "18 loss:  0.9172824621200562 prediction:  [[8 6 1 9 7 6 1 9 3 0 6 1 9 7]] true Y:  [[8, 6, 1, 9, 7, 6, 5, 2, 3, 0, 6, 1, 9, 7]] prediction str:  f you yont you\n",
      "19 loss:  0.915950357913971 prediction:  [[8 6 1 9 7 6 1 9 3 0 6 1 9 7]] true Y:  [[8, 6, 1, 9, 7, 6, 5, 2, 3, 0, 6, 1, 9, 7]] prediction str:  f you yont you\n",
      "20 loss:  0.9117622971534729 prediction:  [[8 6 1 9 7 6 1 9 3 0 6 1 9 7]] true Y:  [[8, 6, 1, 9, 7, 6, 5, 2, 3, 0, 6, 1, 9, 7]] prediction str:  f you yont you\n",
      "21 loss:  0.9037061333656311 prediction:  [[8 6 1 9 7 6 1 9 3 0 6 1 9 7]] true Y:  [[8, 6, 1, 9, 7, 6, 5, 2, 3, 0, 6, 1, 9, 7]] prediction str:  f you yont you\n",
      "22 loss:  0.8968873023986816 prediction:  [[8 6 1 9 7 6 1 9 3 0 6 1 9 7]] true Y:  [[8, 6, 1, 9, 7, 6, 5, 2, 3, 0, 6, 1, 9, 7]] prediction str:  f you yont you\n"
     ]
    },
    {
     "name": "stdout",
     "output_type": "stream",
     "text": [
      "23 loss:  0.8963887095451355 prediction:  [[8 6 1 9 7 6 1 9 3 0 6 1 9 7]] true Y:  [[8, 6, 1, 9, 7, 6, 5, 2, 3, 0, 6, 1, 9, 7]] prediction str:  f you yont you\n",
      "24 loss:  0.8919281363487244 prediction:  [[8 6 1 9 7 6 1 9 3 0 6 1 9 7]] true Y:  [[8, 6, 1, 9, 7, 6, 5, 2, 3, 0, 6, 1, 9, 7]] prediction str:  f you yont you\n",
      "25 loss:  0.8881014585494995 prediction:  [[8 6 1 9 7 6 1 9 3 0 6 1 9 7]] true Y:  [[8, 6, 1, 9, 7, 6, 5, 2, 3, 0, 6, 1, 9, 7]] prediction str:  f you yont you\n",
      "26 loss:  0.886936366558075 prediction:  [[8 6 1 9 7 6 1 9 3 0 6 1 9 7]] true Y:  [[8, 6, 1, 9, 7, 6, 5, 2, 3, 0, 6, 1, 9, 7]] prediction str:  f you yont you\n",
      "27 loss:  0.8851956725120544 prediction:  [[8 6 1 9 7 6 1 9 3 0 6 1 9 7]] true Y:  [[8, 6, 1, 9, 7, 6, 5, 2, 3, 0, 6, 1, 9, 7]] prediction str:  f you yont you\n",
      "28 loss:  0.8825179934501648 prediction:  [[8 6 1 9 7 6 1 9 3 0 6 1 9 7]] true Y:  [[8, 6, 1, 9, 7, 6, 5, 2, 3, 0, 6, 1, 9, 7]] prediction str:  f you yont you\n",
      "29 loss:  0.8806919455528259 prediction:  [[8 6 1 9 7 6 1 9 3 0 6 1 9 7]] true Y:  [[8, 6, 1, 9, 7, 6, 5, 2, 3, 0, 6, 1, 9, 7]] prediction str:  f you yont you\n",
      "30 loss:  0.8804354071617126 prediction:  [[8 6 1 9 7 6 1 9 3 0 6 1 9 7]] true Y:  [[8, 6, 1, 9, 7, 6, 5, 2, 3, 0, 6, 1, 9, 7]] prediction str:  f you yont you\n",
      "31 loss:  0.8775104284286499 prediction:  [[8 6 1 9 7 6 1 9 3 0 6 1 9 7]] true Y:  [[8, 6, 1, 9, 7, 6, 5, 2, 3, 0, 6, 1, 9, 7]] prediction str:  f you yont you\n",
      "32 loss:  0.876778244972229 prediction:  [[8 6 1 9 7 6 1 9 3 0 6 1 9 7]] true Y:  [[8, 6, 1, 9, 7, 6, 5, 2, 3, 0, 6, 1, 9, 7]] prediction str:  f you yont you\n",
      "33 loss:  0.8758026361465454 prediction:  [[8 6 1 9 7 6 1 9 3 0 6 1 9 7]] true Y:  [[8, 6, 1, 9, 7, 6, 5, 2, 3, 0, 6, 1, 9, 7]] prediction str:  f you yont you\n",
      "34 loss:  0.8737676739692688 prediction:  [[8 6 1 9 7 6 1 9 3 0 6 1 9 7]] true Y:  [[8, 6, 1, 9, 7, 6, 5, 2, 3, 0, 6, 1, 9, 7]] prediction str:  f you yont you\n",
      "35 loss:  0.8723315000534058 prediction:  [[8 6 1 9 7 6 1 9 3 0 6 1 9 7]] true Y:  [[8, 6, 1, 9, 7, 6, 5, 2, 3, 0, 6, 1, 9, 7]] prediction str:  f you yont you\n",
      "36 loss:  0.8717924952507019 prediction:  [[8 6 1 9 7 6 1 9 3 0 6 1 9 7]] true Y:  [[8, 6, 1, 9, 7, 6, 5, 2, 3, 0, 6, 1, 9, 7]] prediction str:  f you yont you\n",
      "37 loss:  0.8701883554458618 prediction:  [[8 6 1 9 7 6 1 9 3 0 6 1 9 7]] true Y:  [[8, 6, 1, 9, 7, 6, 5, 2, 3, 0, 6, 1, 9, 7]] prediction str:  f you yont you\n",
      "38 loss:  0.8694754838943481 prediction:  [[8 6 1 9 7 6 1 9 3 0 6 1 9 7]] true Y:  [[8, 6, 1, 9, 7, 6, 5, 2, 3, 0, 6, 1, 9, 7]] prediction str:  f you yont you\n",
      "39 loss:  0.8688327074050903 prediction:  [[8 6 1 9 7 6 1 9 3 0 6 1 9 7]] true Y:  [[8, 6, 1, 9, 7, 6, 5, 2, 3, 0, 6, 1, 9, 7]] prediction str:  f you yont you\n",
      "40 loss:  0.8677571415901184 prediction:  [[8 6 1 9 7 6 1 9 3 0 6 1 9 7]] true Y:  [[8, 6, 1, 9, 7, 6, 5, 2, 3, 0, 6, 1, 9, 7]] prediction str:  f you yont you\n",
      "41 loss:  0.8668668866157532 prediction:  [[8 6 1 9 7 6 1 9 3 0 6 1 9 7]] true Y:  [[8, 6, 1, 9, 7, 6, 5, 2, 3, 0, 6, 1, 9, 7]] prediction str:  f you yont you\n",
      "42 loss:  0.8665968179702759 prediction:  [[8 6 1 9 7 6 1 9 3 0 6 1 9 7]] true Y:  [[8, 6, 1, 9, 7, 6, 5, 2, 3, 0, 6, 1, 9, 7]] prediction str:  f you yont you\n",
      "43 loss:  0.8656677007675171 prediction:  [[8 6 1 9 7 6 1 9 3 0 6 1 9 7]] true Y:  [[8, 6, 1, 9, 7, 6, 5, 2, 3, 0, 6, 1, 9, 7]] prediction str:  f you yont you\n",
      "44 loss:  0.8650060892105103 prediction:  [[8 6 1 9 7 6 1 9 3 0 6 1 9 7]] true Y:  [[8, 6, 1, 9, 7, 6, 5, 2, 3, 0, 6, 1, 9, 7]] prediction str:  f you yont you\n",
      "45 loss:  0.8646360039710999 prediction:  [[8 6 1 9 7 6 1 9 3 0 6 1 9 7]] true Y:  [[8, 6, 1, 9, 7, 6, 5, 2, 3, 0, 6, 1, 9, 7]] prediction str:  f you yont you\n",
      "46 loss:  0.863989531993866 prediction:  [[8 6 1 9 7 6 1 9 3 0 6 1 9 7]] true Y:  [[8, 6, 1, 9, 7, 6, 5, 2, 3, 0, 6, 1, 9, 7]] prediction str:  f you yont you\n",
      "47 loss:  0.8633026480674744 prediction:  [[8 6 1 9 7 6 1 9 3 0 6 1 9 7]] true Y:  [[8, 6, 1, 9, 7, 6, 5, 2, 3, 0, 6, 1, 9, 7]] prediction str:  f you yont you\n",
      "48 loss:  0.8630046844482422 prediction:  [[8 6 1 9 7 6 1 9 3 0 6 1 9 7]] true Y:  [[8, 6, 1, 9, 7, 6, 5, 2, 3, 0, 6, 1, 9, 7]] prediction str:  f you yont you\n",
      "49 loss:  0.8625164031982422 prediction:  [[8 6 1 9 7 6 1 9 3 0 6 1 9 7]] true Y:  [[8, 6, 1, 9, 7, 6, 5, 2, 3, 0, 6, 1, 9, 7]] prediction str:  f you yont you\n"
     ]
    }
   ],
   "source": [
    "#start running \n",
    "for i in range(50):\n",
    "    optimizer.zero_grad()\n",
    "    outputs, _status = rnn(X)\n",
    "    loss = criterion(outputs.view(-1, dic_size), Y.view(-1))\n",
    "    loss.backward()\n",
    "    optimizer.step()\n",
    "\n",
    "    result = outputs.data.numpy().argmax(axis=2)\n",
    "    result_str = ''.join([char_set[c] for c in np.squeeze(result)])\n",
    "    print(i, \"loss: \", loss.item(), \"prediction: \", result, \"true Y: \", y_data, \"prediction str: \", result_str)"
   ]
  },
  {
   "cell_type": "code",
   "execution_count": null,
   "metadata": {},
   "outputs": [],
   "source": []
  }
 ],
 "metadata": {
  "kernelspec": {
   "display_name": "PyTorch",
   "language": "python",
   "name": "python3"
  },
  "language_info": {
   "codemirror_mode": {
    "name": "ipython",
    "version": 3
   },
   "file_extension": ".py",
   "mimetype": "text/x-python",
   "name": "python",
   "nbconvert_exporter": "python",
   "pygments_lexer": "ipython3",
   "version": "3.11.4"
  },
  "orig_nbformat": 4
 },
 "nbformat": 4,
 "nbformat_minor": 2
}
